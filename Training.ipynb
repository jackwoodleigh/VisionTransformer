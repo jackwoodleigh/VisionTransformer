{
 "cells": [
  {
   "cell_type": "code",
   "execution_count": null,
   "id": "dee2aaed-1e2c-41f5-b6f5-0b35e6bc494b",
   "metadata": {},
   "outputs": [],
   "source": [
    "# Login to W&B\n",
    "import wandb\n",
    "wandb.login()"
   ]
  },
  {
   "cell_type": "code",
   "execution_count": null,
   "id": "8ab05db5-f829-4838-bea9-a617571097f8",
   "metadata": {},
   "outputs": [],
   "source": [
    "# Loading config\n",
    "import yaml\n",
    "with open('config.yaml', 'r') as file:\n",
    "    config = yaml.safe_load(file)"
   ]
  },
  {
   "cell_type": "code",
   "execution_count": null,
   "id": "e62ead7a-297d-4bc0-9c85-99d5e8705537",
   "metadata": {},
   "outputs": [],
   "source": [
    "# Start W&B run \n",
    "if config[\"tools\"][\"log\"]:\n",
    "    wandb.init(\n",
    "        project=\"SuperResolution\",\n",
    "        config=config\n",
    "    )\n",
    "    run_name = wandb.run.name\n",
    "\n",
    "# Run training \n",
    "from Main import training\n",
    "training(config)\n",
    "\n",
    "# Finish run\n",
    "wandb.finish()"
   ]
  },
  {
   "cell_type": "code",
   "execution_count": null,
   "id": "efa4b17a-e733-4f84-a92a-27bb2e665c4b",
   "metadata": {},
   "outputs": [],
   "source": [
    "# Saves i random images\n",
    "from Main import sample_images\n",
    "count = 3\n",
    "sample_images(config, 3)"
   ]
  }
 ],
 "metadata": {
  "kernelspec": {
   "display_name": "Python 3 (ipykernel)",
   "language": "python",
   "name": "python3"
  },
  "language_info": {
   "codemirror_mode": {
    "name": "ipython",
    "version": 3
   },
   "file_extension": ".py",
   "mimetype": "text/x-python",
   "name": "python",
   "nbconvert_exporter": "python",
   "pygments_lexer": "ipython3",
   "version": "3.12.4"
  }
 },
 "nbformat": 4,
 "nbformat_minor": 5
}
