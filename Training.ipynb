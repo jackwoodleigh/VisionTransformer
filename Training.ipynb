{
 "cells": [
  {
   "cell_type": "code",
   "execution_count": 5,
   "id": "dee2aaed-1e2c-41f5-b6f5-0b35e6bc494b",
   "metadata": {},
   "outputs": [
    {
     "name": "stderr",
     "output_type": "stream",
     "text": [
      "\u001b[34m\u001b[1mwandb\u001b[0m: Logging into wandb.ai. (Learn how to deploy a W&B server locally: https://wandb.me/wandb-server)\n",
      "\u001b[34m\u001b[1mwandb\u001b[0m: You can find your API key in your browser here: https://wandb.ai/authorize\n",
      "\u001b[34m\u001b[1mwandb\u001b[0m: Paste an API key from your profile and hit enter, or press ctrl+c to quit:"
     ]
    },
    {
     "name": "stdin",
     "output_type": "stream",
     "text": [
      "  ········\n"
     ]
    },
    {
     "name": "stderr",
     "output_type": "stream",
     "text": [
      "\u001b[34m\u001b[1mwandb\u001b[0m: Appending key for api.wandb.ai to your netrc file: C:\\Users\\woodleighj\\.netrc\n"
     ]
    },
    {
     "data": {
      "text/plain": [
       "True"
      ]
     },
     "execution_count": 5,
     "metadata": {},
     "output_type": "execute_result"
    }
   ],
   "source": [
    "#%pip install -q wandb\n",
    "import wandb\n",
    "wandb.login()"
   ]
  },
  {
   "cell_type": "code",
   "execution_count": 2,
   "id": "b8dafb37-0694-4e2c-99f1-ffc4d66d310e",
   "metadata": {},
   "outputs": [],
   "source": [
    "import torch\n",
    "import torchvision\n",
    "from torch.utils.data import DataLoader, Subset, random_split\n",
    "from torchvision import transforms\n",
    "from LMLTransformer import LMLTransformer\n",
    "from ModelHelper import ModelHelper\n",
    "from utils import SuperResolutionDataset\n",
    "import yaml"
   ]
  },
  {
   "cell_type": "code",
   "execution_count": 7,
   "id": "8ab05db5-f829-4838-bea9-a617571097f8",
   "metadata": {},
   "outputs": [],
   "source": [
    "# Loading config\n",
    "with open('config.yaml', 'r') as file:\n",
    "    config = yaml.safe_load(file)"
   ]
  },
  {
   "cell_type": "code",
   "execution_count": null,
   "id": "c3cf0b17-2add-42b1-b609-b85b58f15758",
   "metadata": {},
   "outputs": [],
   "source": [
    "# Data modifications/transforms \n",
    "hr_transforms = transforms.Compose([\n",
    "    transforms.Lambda(lambda img: img.rotate(-90, expand=True) if img.height < img.width else img),\n",
    "    transforms.CenterCrop((config[\"training\"][\"image_height\"], config[\"training\"][\"image_width\"])),\n",
    "    transforms.ToTensor()\n",
    "])\n",
    "\n",
    "lr_transforms = transforms.Compose([\n",
    "    transforms.Resize(int(config[\"training\"][\"training_scale_factor\"])),\n",
    "    transforms.GaussianBlur(kernel_size=(5, 5), sigma=(0.1, 2.0)),\n",
    "    transforms.ToTensor()\n",
    "])"
   ]
  },
  {
   "cell_type": "code",
   "execution_count": null,
   "id": "82eb9ab9-23b6-4129-b65a-3e4c79c59e6d",
   "metadata": {},
   "outputs": [],
   "source": [
    "# Loading datasets\n",
    "dataset = torchvision.datasets.ImageFolder(root='./data/train', transform=hr_transforms)\n",
    "dataset = SuperResolutionDataset(root='./data/train', hr_transforms=hr_transforms, lr_transforms=lr_transforms)\n",
    "\n",
    "test_size = int(len(dataset) * config[\"training\"][\"testing_data_split\"])\n",
    "train_size = len(dataset) - test_size\n",
    "\n",
    "train_dataset, test_dataset = random_split(dataset, [train_size, test_size])\n",
    "\n",
    "train_loader = DataLoader(train_dataset, batch_size=config[\"training\"][\"batch_size\"], shuffle=True)\n",
    "test_loader = DataLoader(test_dataset, batch_size=config[\"training\"][\"batch_size\"], shuffle=True)"
   ]
  },
  {
   "cell_type": "code",
   "execution_count": null,
   "id": "70330c75-9aa9-488c-9b96-afffad22c344",
   "metadata": {},
   "outputs": [],
   "source": [
    "# Initilizing model, optimizer, and helper\n",
    "model = LMLTransformer(\n",
    "    n_blocks=config[\"model\"][\"n_blocks\"],\n",
    "    levels=config[\"model\"][\"levels\"], window_size=config[\"model\"][\"n_blocks\"],\n",
    "    dim=config[\"model\"][\"dim\"],\n",
    "    scale_factor=config[\"model\"][\"scale_factor\"]\n",
    ")\n",
    "\n",
    "optimzer = torch.optim.AdamW(model.parameters(), lr=config[\"training\"][\"learning_rate\"])\n",
    "\n",
    "helper = ModelHelper(model, optimzer)"
   ]
  },
  {
   "cell_type": "code",
   "execution_count": 8,
   "id": "30233ad1-d72c-4546-88be-e4c4aefd6808",
   "metadata": {},
   "outputs": [
    {
     "name": "stderr",
     "output_type": "stream",
     "text": [
      "\u001b[34m\u001b[1mwandb\u001b[0m: Currently logged in as: \u001b[33mwoodleighj\u001b[0m (\u001b[33mjackwoodleigh\u001b[0m). Use \u001b[1m`wandb login --relogin`\u001b[0m to force relogin\n"
     ]
    },
    {
     "data": {
      "text/html": [
       "wandb version 0.19.5 is available!  To upgrade, please run:\n",
       " $ pip install wandb --upgrade"
      ],
      "text/plain": [
       "<IPython.core.display.HTML object>"
      ]
     },
     "metadata": {},
     "output_type": "display_data"
    },
    {
     "data": {
      "text/html": [
       "Tracking run with wandb version 0.17.0"
      ],
      "text/plain": [
       "<IPython.core.display.HTML object>"
      ]
     },
     "metadata": {},
     "output_type": "display_data"
    },
    {
     "data": {
      "text/html": [
       "Run data is saved locally in <code>C:\\Users\\woodleighj\\PycharmProjects\\NeuralNet\\VisionTransformer\\wandb\\run-20250203_145459-xt9of1sf</code>"
      ],
      "text/plain": [
       "<IPython.core.display.HTML object>"
      ]
     },
     "metadata": {},
     "output_type": "display_data"
    },
    {
     "data": {
      "text/html": [
       "Syncing run <strong><a href='https://wandb.ai/jackwoodleigh/SuperResolution/runs/xt9of1sf' target=\"_blank\">faithful-energy-1</a></strong> to <a href='https://wandb.ai/jackwoodleigh/SuperResolution' target=\"_blank\">Weights & Biases</a> (<a href='https://wandb.me/run' target=\"_blank\">docs</a>)<br/>"
      ],
      "text/plain": [
       "<IPython.core.display.HTML object>"
      ]
     },
     "metadata": {},
     "output_type": "display_data"
    },
    {
     "data": {
      "text/html": [
       " View project at <a href='https://wandb.ai/jackwoodleigh/SuperResolution' target=\"_blank\">https://wandb.ai/jackwoodleigh/SuperResolution</a>"
      ],
      "text/plain": [
       "<IPython.core.display.HTML object>"
      ]
     },
     "metadata": {},
     "output_type": "display_data"
    },
    {
     "data": {
      "text/html": [
       " View run at <a href='https://wandb.ai/jackwoodleigh/SuperResolution/runs/xt9of1sf' target=\"_blank\">https://wandb.ai/jackwoodleigh/SuperResolution/runs/xt9of1sf</a>"
      ],
      "text/plain": [
       "<IPython.core.display.HTML object>"
      ]
     },
     "metadata": {},
     "output_type": "display_data"
    }
   ],
   "source": [
    "if config[\"training\"][\"log\"]:\n",
    "    config[\"model\"][\"size\"] = helper.get_parameter_count()\n",
    "    wandb.init(\n",
    "        project=\"SuperResolution\",\n",
    "        config=config\n",
    "    )\n",
    "    run_name = wandb.run.name"
   ]
  },
  {
   "cell_type": "code",
   "execution_count": null,
   "id": "e62ead7a-297d-4bc0-9c85-99d5e8705537",
   "metadata": {},
   "outputs": [],
   "source": [
    "helper.train_model(\n",
    "    train_loader,\n",
    "    test_loader,\n",
    "    config[\"training\"][\"epoch\"],\n",
    "    config[\"model\"][\"batches_per_epoch\"],\n",
    "    config[\"model\"][\"perceptual_loss_scale\"]\n",
    ")\n",
    "wandb.finish()"
   ]
  },
  {
   "cell_type": "code",
   "execution_count": 9,
   "id": "5388f311-1e7b-4ef7-b06a-49702943c6d8",
   "metadata": {},
   "outputs": [
    {
     "data": {
      "application/vnd.jupyter.widget-view+json": {
       "model_id": "5d616241c76e45e5920ff2a9303bfff1",
       "version_major": 2,
       "version_minor": 0
      },
      "text/plain": [
       "VBox(children=(Label(value='0.013 MB of 0.013 MB uploaded\\r'), FloatProgress(value=1.0, max=1.0)))"
      ]
     },
     "metadata": {},
     "output_type": "display_data"
    },
    {
     "data": {
      "text/html": [
       " View run <strong style=\"color:#cdcd00\">faithful-energy-1</strong> at: <a href='https://wandb.ai/jackwoodleigh/SuperResolution/runs/xt9of1sf' target=\"_blank\">https://wandb.ai/jackwoodleigh/SuperResolution/runs/xt9of1sf</a><br/> View project at: <a href='https://wandb.ai/jackwoodleigh/SuperResolution' target=\"_blank\">https://wandb.ai/jackwoodleigh/SuperResolution</a><br/>Synced 4 W&B file(s), 0 media file(s), 2 artifact file(s) and 0 other file(s)"
      ],
      "text/plain": [
       "<IPython.core.display.HTML object>"
      ]
     },
     "metadata": {},
     "output_type": "display_data"
    },
    {
     "data": {
      "text/html": [
       "Find logs at: <code>.\\wandb\\run-20250203_145459-xt9of1sf\\logs</code>"
      ],
      "text/plain": [
       "<IPython.core.display.HTML object>"
      ]
     },
     "metadata": {},
     "output_type": "display_data"
    }
   ],
   "source": []
  }
 ],
 "metadata": {
  "kernelspec": {
   "display_name": "Python 3 (ipykernel)",
   "language": "python",
   "name": "python3"
  },
  "language_info": {
   "codemirror_mode": {
    "name": "ipython",
    "version": 3
   },
   "file_extension": ".py",
   "mimetype": "text/x-python",
   "name": "python",
   "nbconvert_exporter": "python",
   "pygments_lexer": "ipython3",
   "version": "3.10.0"
  }
 },
 "nbformat": 4,
 "nbformat_minor": 5
}
